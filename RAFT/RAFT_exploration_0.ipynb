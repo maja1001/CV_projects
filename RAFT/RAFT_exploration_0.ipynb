{
  "cells": [
    {
      "cell_type": "markdown",
      "metadata": {
        "colab_type": "text",
        "id": "view-in-github"
      },
      "source": [
        "<a href=\"https://colab.research.google.com/github/itberrios/CV_projects/blob/main/RAFT/RAFT_exploration.ipynb\" target=\"_parent\"><img src=\"https://colab.research.google.com/assets/colab-badge.svg\" alt=\"Open In Colab\"/></a>"
      ]
    },
    {
      "cell_type": "markdown",
      "metadata": {
        "id": "Y7P01YDMU3o7"
      },
      "source": [
        "# **RAFT Starter**\n",
        "\n",
        "In this notebook we will learn how to use [RAFT](https://arxiv.org/pdf/2003.12039.pdf) or Recurrent All-Pairs Field Transforms for Optical Flow"
      ]
    },
    {
      "cell_type": "markdown",
      "metadata": {
        "id": "Hs1LlfOFhzoJ"
      },
      "source": [
        "## RAFT Models\n",
        "\n",
        "RAFT has several pretrained models:\n",
        " - raft-chairs - trained on FlyingChairs\n",
        " - raft-things - trained on FlyingChairs + FlyingThings\n",
        " - raft-sintel - trained on FlyingChairs + FlyingThings + Sintel + KITTI\n",
        " - raft-kitti - raft-sintel finetuned on only KITTI\n",
        " - raft-small - trained on FlyingChairs + FlyingThings"
      ]
    },
    {
      "cell_type": "markdown",
      "metadata": {
        "id": "xnrUTdBFcByn"
      },
      "source": [
        "Clone the repo and import libraries"
      ]
    },
    {
      "cell_type": "code",
      "execution_count": null,
      "metadata": {
        "colab": {
          "base_uri": "https://localhost:8080/"
        },
        "id": "A4xqoAUSUy3S",
        "outputId": "6eecf204-42d6-4562-b953-cd8aed7e032c"
      },
      "outputs": [],
      "source": [
        "!git clone https://github.com/princeton-vl/RAFT.git"
      ]
    },
    {
      "cell_type": "code",
      "execution_count": null,
      "metadata": {},
      "outputs": [],
      "source": [
        "!git pull"
      ]
    },
    {
      "cell_type": "code",
      "execution_count": null,
      "metadata": {
        "id": "KHUJ3bE7cH-j"
      },
      "outputs": [],
      "source": [
        "import os\n",
        "import sys\n",
        "import numpy as np\n",
        "import cv2\n",
        "import pandas as pd\n",
        "\n",
        "import torch\n",
        "import torch.nn as nn\n",
        "import torch.nn.functional as F\n",
        "\n",
        "import matplotlib.pyplot as plt\n",
        "%matplotlib inline"
      ]
    },
    {
      "cell_type": "code",
      "execution_count": null,
      "metadata": {},
      "outputs": [],
      "source": [
        "print(torch.__version__)\n",
        "print(torch.cuda.get_arch_list())\n",
        " \n",
        "if torch.cuda.is_available():\n",
        "    print(\"CUDA is available!\")\n",
        "    print(f\"Number of GPUs: {torch.cuda.device_count()}\")\n",
        "    for i in range(torch.cuda.device_count()):\n",
        "        print(f\"GPU {i}: {torch.cuda.get_device_name(i)}\")\n",
        "        print(f\"Allocated memory: {torch.cuda.memory_allocated(i)/1024**2:.2f} MB\")\n",
        "        print(f\"Cached memory: {torch.cuda.memory_reserved(i)/1024**2:.2f} MB\")\n",
        "        print(f\"Properties: {torch.cuda.get_device_properties(i)}\")\n",
        "else:\n",
        "    print(\"CUDA is not available.\")"
      ]
    },
    {
      "cell_type": "markdown",
      "metadata": {
        "id": "auoba8E2fs2b"
      },
      "source": [
        "Add RAFT core to path"
      ]
    },
    {
      "cell_type": "code",
      "execution_count": null,
      "metadata": {
        "id": "mJQfY_UUfb0a"
      },
      "outputs": [],
      "source": [
        "sys.path.append('RAFT/core')"
      ]
    },
    {
      "cell_type": "markdown",
      "metadata": {
        "id": "6v76U_xxckIs"
      },
      "source": [
        "Get demo frames"
      ]
    },
    {
      "cell_type": "code",
      "execution_count": null,
      "metadata": {
        "id": "ep1mXcBZcZVP"
      },
      "outputs": [],
      "source": [
        "demo_path = 'RAFT/demo-frames'\n",
        "frame1 = cv2.imread(os.path.join(demo_path, 'frame_0020.png'))\n",
        "frame2 = cv2.imread(os.path.join(demo_path, 'frame_0021.png'))\n",
        "frame3 = cv2.imread(os.path.join(demo_path, 'frame_0023.png'))\n",
        "\n",
        "frame1 = cv2.cvtColor(frame1, cv2.COLOR_BGR2RGB)\n",
        "frame2 = cv2.cvtColor(frame2, cv2.COLOR_BGR2RGB)\n",
        "frame3 = cv2.cvtColor(frame3, cv2.COLOR_BGR2RGB)"
      ]
    },
    {
      "cell_type": "code",
      "execution_count": null,
      "metadata": {
        "colab": {
          "base_uri": "https://localhost:8080/",
          "height": 365
        },
        "id": "yIbK2OLac0Gg",
        "outputId": "e75e4cc5-b3a8-44c0-cd81-5d4c5e743e3b"
      },
      "outputs": [],
      "source": [
        "_, ax = plt.subplots(1, 2, figsize=(20, 8))\n",
        "ax[0].imshow(frame1)\n",
        "ax[1].imshow(frame2);"
      ]
    },
    {
      "cell_type": "markdown",
      "metadata": {
        "id": "LMdU8UuRd4P7"
      },
      "source": [
        "## Download models"
      ]
    },
    {
      "cell_type": "code",
      "execution_count": null,
      "metadata": {
        "colab": {
          "base_uri": "https://localhost:8080/"
        },
        "id": "gEGKBvgEc0qd",
        "outputId": "4157d329-d524-435d-c1c5-cb356b10dcff"
      },
      "outputs": [],
      "source": [
        "%cd RAFT\n",
        "!./download_models.sh\n",
        "# !python demo.py --model=models/raft-things.pth --path=demo-frames\n",
        "%cd .."
      ]
    },
    {
      "cell_type": "markdown",
      "metadata": {
        "id": "bqpa4YLAfCd1"
      },
      "source": [
        "### Helper functions"
      ]
    },
    {
      "cell_type": "code",
      "execution_count": null,
      "metadata": {
        "id": "uinuMz76e2Jb"
      },
      "outputs": [],
      "source": [
        "from collections import OrderedDict\n",
        "from raft import RAFT\n",
        "from utils import flow_viz\n",
        "from utils.utils import InputPadder\n",
        "\n",
        "\n",
        "\n",
        "def process_img(img, device):\n",
        "    return torch.from_numpy(img).permute(2, 0, 1).float()[None].to(device)\n",
        "\n",
        "\n",
        "def load_model(weights_path, args):\n",
        "    model = RAFT(args)\n",
        "    pretrained_weights = torch.load(weights_path, map_location=torch.device(\"cpu\"))\n",
        "    model = torch.nn.DataParallel(model)\n",
        "    model.load_state_dict(pretrained_weights)\n",
        "    model.to(\"cuda\")\n",
        "    return model\n",
        "\n",
        "\n",
        "def inference(model, frame1, frame2, device, pad_mode='sintel',\n",
        "              iters=12, flow_init=None, upsample=True, test_mode=True):\n",
        "\n",
        "    model.eval()\n",
        "    with torch.no_grad():\n",
        "        # preprocess\n",
        "        frame1 = process_img(frame1, device)\n",
        "        frame2 = process_img(frame2, device)\n",
        "\n",
        "        padder = InputPadder(frame1.shape, mode=pad_mode)\n",
        "        frame1, frame2 = padder.pad(frame1, frame2)\n",
        "\n",
        "        # predict flow\n",
        "        if test_mode:\n",
        "          flow_low, flow_up = model(frame1,\n",
        "                                    frame2,\n",
        "                                    iters=iters,\n",
        "                                    flow_init=flow_init,\n",
        "                                    upsample=upsample,\n",
        "                                    test_mode=test_mode)\n",
        "\n",
        "\n",
        "\n",
        "          return flow_low, flow_up\n",
        "\n",
        "        else:\n",
        "            flow_iters = model(frame1,\n",
        "                               frame2,\n",
        "                               iters=iters,\n",
        "                               flow_init=flow_init,\n",
        "                               upsample=upsample,\n",
        "                               test_mode=test_mode)\n",
        "\n",
        "            return flow_iters\n",
        "\n",
        "\n",
        "def get_viz(flo):\n",
        "    flo = flo[0].permute(1,2,0).cpu().numpy()\n",
        "    return flow_viz.flow_to_image(flo)\n",
        "\n",
        "# sketchy class to pass to RAFT\n",
        "class Args():\n",
        "  def __init__(self, model='', path='', small=False, mixed_precision=True, alternate_corr=False):\n",
        "    self.model = model\n",
        "    self.path = path\n",
        "    self.small = small\n",
        "    self.mixed_precision = mixed_precision\n",
        "    self.alternate_corr = alternate_corr\n",
        "\n",
        "  \"\"\" Sketchy hack to pretend to iterate through the class objects \"\"\"\n",
        "  def __iter__(self):\n",
        "    return self\n",
        "\n",
        "  def __next__(self):\n",
        "    raise StopIteration"
      ]
    },
    {
      "cell_type": "markdown",
      "metadata": {
        "id": "Z1JwL5zWj4OK"
      },
      "source": [
        "### Load Model"
      ]
    },
    {
      "cell_type": "code",
      "execution_count": null,
      "metadata": {
        "id": "K9u0-jW3lXuE"
      },
      "outputs": [],
      "source": [
        "model = load_model(\"RAFT/models/raft-sintel.pth\", args=Args())"
      ]
    },
    {
      "cell_type": "markdown",
      "metadata": {
        "id": "ltJKTkOmofsH"
      },
      "source": [
        "### Predict Optical Flow"
      ]
    },
    {
      "cell_type": "code",
      "execution_count": null,
      "metadata": {
        "colab": {
          "base_uri": "https://localhost:8080/"
        },
        "id": "-62nC-abj6o5",
        "outputId": "71c2e69c-ff3c-425b-edcf-0ee4d2b77027"
      },
      "outputs": [],
      "source": [
        "flow_low, flow_up = inference(model, frame1, frame2, device='cuda')"
      ]
    },
    {
      "cell_type": "code",
      "execution_count": null,
      "metadata": {
        "colab": {
          "base_uri": "https://localhost:8080/"
        },
        "id": "cpKrGmOhpmRm",
        "outputId": "624f6a24-ccf1-4547-ef38-efb184db0986"
      },
      "outputs": [],
      "source": [
        "flow_low.shape, flow_up.shape"
      ]
    },
    {
      "cell_type": "markdown",
      "metadata": {
        "id": "CLI4p64PoiOx"
      },
      "source": [
        "### Display Results"
      ]
    },
    {
      "cell_type": "code",
      "execution_count": null,
      "metadata": {
        "id": "X0OGKCzRpIef"
      },
      "outputs": [],
      "source": [
        "flow_low_viz = get_viz(flow_low)\n",
        "flow_up_viz = get_viz(flow_up)"
      ]
    },
    {
      "cell_type": "code",
      "execution_count": null,
      "metadata": {
        "colab": {
          "base_uri": "https://localhost:8080/",
          "height": 368
        },
        "id": "T7DnQ86sfYxR",
        "outputId": "e34cda0d-b60c-49c0-b668-38e01eaab8c2"
      },
      "outputs": [],
      "source": [
        "f, (ax0, ax1) = plt.subplots(1,2, figsize=(20,10))\n",
        "\n",
        "ax0.imshow(frame1)\n",
        "ax1.imshow(flow_up_viz)\n",
        "plt.show()"
      ]
    },
    {
      "cell_type": "code",
      "execution_count": null,
      "metadata": {
        "colab": {
          "base_uri": "https://localhost:8080/",
          "height": 385
        },
        "id": "6vM12H1ZgpQ8",
        "outputId": "6c5959bf-33ec-4aea-b545-f6eea609c7b9"
      },
      "outputs": [],
      "source": [
        "f, (ax0, ax1) = plt.subplots(1,2, figsize=(20,10))\n",
        "\n",
        "ax0.imshow(flow_low_viz)\n",
        "ax0.set_title('1/8 res flow')\n",
        "ax1.imshow(flow_up_viz)\n",
        "ax1.set_title('convex upsampled flow');"
      ]
    },
    {
      "cell_type": "code",
      "execution_count": null,
      "metadata": {
        "id": "427ijNG5ooZe"
      },
      "outputs": [],
      "source": [
        "flow_iters = inference(model, frame1, frame2, device='cuda', iters=20, test_mode=False)"
      ]
    },
    {
      "cell_type": "code",
      "execution_count": null,
      "metadata": {
        "colab": {
          "base_uri": "https://localhost:8080/",
          "height": 385
        },
        "id": "y-D4qfsvwXMN",
        "outputId": "b70a00d1-ff39-4ba1-814b-bc369b4e776c"
      },
      "outputs": [],
      "source": [
        "f, (ax0, ax1) = plt.subplots(1,2, figsize=(20,10))\n",
        "\n",
        "ax0.imshow(get_viz(flow_iters[0]))\n",
        "ax0.set_title('first flow iteration')\n",
        "ax1.imshow(get_viz(flow_iters[-1]))\n",
        "ax1.set_title('final flow iteration');"
      ]
    },
    {
      "cell_type": "markdown",
      "metadata": {
        "id": "9OA6Be6uh_Ua"
      },
      "source": [
        "## Estimate Flow with a Warm Start"
      ]
    },
    {
      "cell_type": "code",
      "execution_count": null,
      "metadata": {
        "id": "dwx_O9m8iDOi"
      },
      "outputs": [],
      "source": [
        "flow_lo_cold, flow_up_cold = inference(model, frame2, frame3, device='cuda', iters=20, test_mode=True)\n",
        "flow_lo_warm, flow_up_warm = inference(model, frame2, frame3, device='cuda', flow_init=flow_lo_cold, iters=20, test_mode=True)"
      ]
    },
    {
      "cell_type": "code",
      "execution_count": null,
      "metadata": {
        "colab": {
          "base_uri": "https://localhost:8080/",
          "height": 385
        },
        "id": "LvEBVK7ejTRg",
        "outputId": "e80790c5-ebcf-4074-806c-ab51bf9d4498"
      },
      "outputs": [],
      "source": [
        "f, (ax0, ax1) = plt.subplots(1,2, figsize=(20,10))\n",
        "\n",
        "ax0.imshow(get_viz(flow_up_cold))\n",
        "ax0.set_title('0 initiazed flow')\n",
        "ax1.imshow(get_viz(flow_up_warm))\n",
        "ax1.set_title('warm initialized flow');"
      ]
    },
    {
      "cell_type": "markdown",
      "metadata": {
        "id": "1kaXiV3dxBDU"
      },
      "source": [
        "## Try an example on Kitti\n",
        "\n",
        "We can either use the KITTI website to download, or select a video sequence from the MOT challenge."
      ]
    },
    {
      "cell_type": "code",
      "execution_count": null,
      "metadata": {
        "id": "KYiqJ0c81Ey_"
      },
      "outputs": [],
      "source": [
        "!wget https://s3.eu-central-1.amazonaws.com/avg-kitti/raw_data/2011_09_29_drive_0071/2011_09_29_drive_0071_sync.zip\n",
        "!jar xf /content/2011_09_29_drive_0071_sync.zip"
      ]
    },
    {
      "cell_type": "code",
      "execution_count": null,
      "metadata": {
        "colab": {
          "base_uri": "https://localhost:8080/"
        },
        "id": "PUIy-kmtmTMk",
        "outputId": "035a7ce7-5344-42d3-e37f-dfe01bbb7d48"
      },
      "outputs": [],
      "source": [
        "# !wget https://motchallenge.net/sequenceVideos/KITTI-16-raw.webm"
      ]
    },
    {
      "cell_type": "markdown",
      "metadata": {
        "id": "apSuBEqWkaPS"
      },
      "source": [
        "## Compute Flow on a video"
      ]
    },
    {
      "cell_type": "code",
      "execution_count": null,
      "metadata": {
        "id": "98sro8O2xfOy"
      },
      "outputs": [],
      "source": [
        "# cap = cv2.VideoCapture(\"KITTI-16-raw.webm\")\n",
        "\n",
        "# if (cap.isOpened() == False):\n",
        "#     print(\"Error opening video file\")\n",
        "\n",
        "# fps = cap.get(cv2.CAP_PROP_FPS)\n",
        "# raw_frames = []\n",
        "# flows = []\n",
        "# flow_lo = None\n",
        "# i = 0\n",
        "# while(cap.isOpened()):\n",
        "\n",
        "#     # read each video frame\n",
        "#     ret, frame = cap.read()\n",
        "\n",
        "#     if ret == True:\n",
        "\n",
        "#         # save to list\n",
        "#         raw_frames.append(cv2.cvtColor(frame, cv2.COLOR_BGR2RGB))\n",
        "\n",
        "#         # compute flow\n",
        "#         flow_lo, flow_up = inference(model, frame2, frame3, device='cuda', flow_init=flow_lo, iters=20, test_mode=True)\n",
        "\n",
        "#         flows.append(flow_up)\n",
        "\n",
        "#         # increment counter\n",
        "#         i += 1\n",
        "\n",
        "#     # Break if nothing is returned\n",
        "#     else:\n",
        "#         break\n",
        "\n",
        "# # clean up\n",
        "# cap.release()\n",
        "# cv2.destroyAllWindows()\n",
        "# del cap"
      ]
    },
    {
      "cell_type": "markdown",
      "metadata": {
        "id": "3BeHW618kZpJ"
      },
      "source": [
        "## Flow example on a pair of frames\n",
        "\n",
        "Let's see how well RAFT does on a single pair of frames from the KITTI driving scene"
      ]
    },
    {
      "cell_type": "code",
      "execution_count": null,
      "metadata": {
        "id": "QltedT6j3tOY"
      },
      "outputs": [],
      "source": [
        "from glob import glob\n",
        "\n",
        "left_image_paths = sorted(glob('/content/2011_09_29/2011_09_29_drive_0071_sync/image_02/data/*.png'))\n",
        "frames = [cv2.imread(path) for path in left_image_paths]"
      ]
    },
    {
      "cell_type": "code",
      "execution_count": null,
      "metadata": {
        "id": "M43QR3W5yD7t"
      },
      "outputs": [],
      "source": [
        "idx = 75\n",
        "frame1 = frames[idx]\n",
        "frame2 = frames[idx + 1]\n",
        "frame3 = frames[idx + 2]\n",
        "\n",
        "frame1 = cv2.cvtColor(frame1, cv2.COLOR_BGR2RGB)\n",
        "frame2 = cv2.cvtColor(frame2, cv2.COLOR_BGR2RGB)\n",
        "frame3 = cv2.cvtColor(frame3, cv2.COLOR_BGR2RGB)"
      ]
    },
    {
      "cell_type": "code",
      "execution_count": null,
      "metadata": {
        "colab": {
          "base_uri": "https://localhost:8080/",
          "height": 278
        },
        "id": "uluVetKHyHPF",
        "outputId": "53f766e0-7d2b-49cf-a4a5-84d6772a780c"
      },
      "outputs": [],
      "source": [
        "_, ax = plt.subplots(1, 2, figsize=(20, 8))\n",
        "ax[0].imshow(frame1)\n",
        "ax[1].imshow(frame2);"
      ]
    },
    {
      "cell_type": "code",
      "execution_count": null,
      "metadata": {
        "id": "bkqK2hDNyj2L"
      },
      "outputs": [],
      "source": [
        "## OPTIONAL (use KITTI only model)\n",
        "# del model\n",
        "# model = load_model(\"RAFT/models/raft-kitti.pth\", args=Args())\n",
        "flow_iters = inference(model, frame1, frame2, device='cuda', pad_mode='kitti', iters=20, test_mode=False)"
      ]
    },
    {
      "cell_type": "code",
      "execution_count": null,
      "metadata": {
        "colab": {
          "base_uri": "https://localhost:8080/",
          "height": 296
        },
        "id": "7oguvC42yweC",
        "outputId": "7457b904-5f4c-4945-9cef-290a6adf139e"
      },
      "outputs": [],
      "source": [
        "f, (ax0, ax1) = plt.subplots(1,2, figsize=(20,10))\n",
        "\n",
        "ax0.imshow(get_viz(flow_iters[0]))\n",
        "ax0.set_title('first flow iteration')\n",
        "ax1.imshow(get_viz(flow_iters[-1]))\n",
        "ax1.set_title('final flow iteration');"
      ]
    },
    {
      "cell_type": "markdown",
      "metadata": {
        "id": "iXYcvIvjmhVQ"
      },
      "source": [
        "## **Perform warm start flow prediction**"
      ]
    },
    {
      "cell_type": "code",
      "execution_count": null,
      "metadata": {
        "id": "f7T8b6CL_iOJ"
      },
      "outputs": [],
      "source": [
        "flow_lo, flow_up = inference(model, frame1, frame2, device='cuda', pad_mode='kitti', iters=20, test_mode=True)\n",
        "flow_lo_cold, flow_up_cold = inference(model, frame2, frame3, device='cuda', pad_mode='kitti', flow_init=None, iters=20, test_mode=True)\n",
        "flow_lo_warm, flow_up_warm = inference(model, frame2, frame3, device='cuda', pad_mode='kitti', flow_init=flow_lo, iters=20, test_mode=True)"
      ]
    },
    {
      "cell_type": "code",
      "execution_count": null,
      "metadata": {
        "colab": {
          "base_uri": "https://localhost:8080/",
          "height": 307
        },
        "id": "HvsiHn1pm0Da",
        "outputId": "cf536dfa-6dec-489f-fa8c-068d339700a2"
      },
      "outputs": [],
      "source": [
        "f, (ax0, ax1) = plt.subplots(1,2, figsize=(30,10))\n",
        "\n",
        "ax0.imshow(get_viz(flow_up_cold))\n",
        "ax0.set_title('0 initialized flow')\n",
        "ax1.imshow(get_viz(flow_up_warm))\n",
        "ax1.set_title('warm initialized flow');"
      ]
    },
    {
      "cell_type": "code",
      "execution_count": null,
      "metadata": {
        "id": "yzjQmppTm4zs"
      },
      "outputs": [],
      "source": [
        "1"
      ]
    }
  ],
  "metadata": {
    "accelerator": "GPU",
    "colab": {
      "gpuType": "T4",
      "include_colab_link": true,
      "provenance": []
    },
    "kernelspec": {
      "display_name": "Python 3",
      "name": "python3"
    },
    "language_info": {
      "codemirror_mode": {
        "name": "ipython",
        "version": 3
      },
      "file_extension": ".py",
      "mimetype": "text/x-python",
      "name": "python",
      "nbconvert_exporter": "python",
      "pygments_lexer": "ipython3",
      "version": "3.12.2"
    }
  },
  "nbformat": 4,
  "nbformat_minor": 0
}
