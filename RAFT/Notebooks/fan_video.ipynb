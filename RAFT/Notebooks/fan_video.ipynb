{
 "cells": [
  {
   "cell_type": "markdown",
   "metadata": {},
   "source": [
    "# Fan Video\n",
    "\n",
    "In this notebook we will estimate the Optical Flow of the rotating ceiling fan and create a GIF of it"
   ]
  },
  {
   "cell_type": "code",
   "execution_count": null,
   "metadata": {},
   "outputs": [],
   "source": [
    "import os\n",
    "import sys\n",
    "import numpy as np\n",
    "import cv2\n",
    "import pandas as pd\n",
    "\n",
    "import torch\n",
    "import torch.nn as nn\n",
    "import torch.nn.functional as F\n",
    "\n",
    "import matplotlib.pyplot as plt\n",
    "%matplotlib inline"
   ]
  },
  {
   "cell_type": "code",
   "execution_count": null,
   "metadata": {},
   "outputs": [],
   "source": [
    "# add RAFT to core path\n",
    "sys.path.append('RAFT/core')\n",
    "     \n",
    "from raft_utils import *"
   ]
  },
  {
   "cell_type": "markdown",
   "metadata": {},
   "source": [
    "#### Get Data"
   ]
  },
  {
   "cell_type": "code",
   "execution_count": null,
   "metadata": {},
   "outputs": [],
   "source": [
    "from glob import glob\n",
    "\n",
    "frame_paths = sorted(glob(os.path.join('test_images', f'*.png')))\n",
    "frame_paths.sort(key=lambda f: int(''.join(filter(str.isdigit, f))))"
   ]
  },
  {
   "cell_type": "markdown",
   "metadata": {},
   "source": [
    "#### Get Model"
   ]
  },
  {
   "cell_type": "code",
   "execution_count": null,
   "metadata": {},
   "outputs": [],
   "source": [
    "# load model\n",
    "model = load_model(\"RAFT/models/raft-sintel.pth\", args=Args())"
   ]
  },
  {
   "cell_type": "code",
   "execution_count": null,
   "metadata": {},
   "outputs": [],
   "source": [
    "# store results\n",
    "cold_flow_frames = []\n",
    "flow_frames = []\n",
    "\n",
    "# warm start\n",
    "prev_frame = cv2.cvtColor(cv2.imread(frame_paths[0]), cv2.COLOR_BGR2RGB)\n",
    "frame = cv2.cvtColor(cv2.imread(frame_paths[1]), cv2.COLOR_BGR2RGB)\n",
    "flow_lo, flow_up = inference(model, prev_frame, frame, device='cuda', iters=25, pad_mode=None, test_mode=True)\n",
    "\n",
    "flow_frames.append(flow_up)\n",
    "cold_flow_frames.append(flow_up)\n",
    "prev_frame = frame.copy()\n",
    "\n",
    "for i, fp in enumerate(frame_paths[2:]):\n",
    "    frame = cv2.cvtColor(cv2.imread(fp), cv2.COLOR_BGR2RGB)\n",
    "\n",
    "    cold_flow_lo, cold_flow_up = inference(model, prev_frame, frame, device='cuda', flow_init=None, iters=25, pad_mode=None, test_mode=True)\n",
    "    flow_lo, flow_up = inference(model, prev_frame, frame, device='cuda', flow_init=flow_lo, iters=25, pad_mode=None, test_mode=True)\n",
    "\n",
    "    flow_frames.append(flow_up)\n",
    "    cold_flow_frames.append(cold_flow_up)\n",
    "    prev_frame = frame.copy()\n",
    "\n",
    "\n"
   ]
  },
  {
   "cell_type": "code",
   "execution_count": null,
   "metadata": {},
   "outputs": [],
   "source": [
    "f, (ax0, ax1) = plt.subplots(1,2, figsize=(20,10))\n",
    "\n",
    "ax0.imshow(get_viz(cold_flow_frames[50]))\n",
    "ax0.set_title('0 initialized flow')\n",
    "ax1.imshow(get_viz(flow_frames[50]))\n",
    "ax1.set_title('warm initialized flow');"
   ]
  },
  {
   "cell_type": "code",
   "execution_count": null,
   "metadata": {},
   "outputs": [],
   "source": [
    "cold_flow_frames[0] - flow_frames[0]"
   ]
  },
  {
   "cell_type": "code",
   "execution_count": null,
   "metadata": {},
   "outputs": [],
   "source": [
    "plt.imshow(get_viz(flow_frames[1]))"
   ]
  },
  {
   "cell_type": "markdown",
   "metadata": {},
   "source": [
    "Sanity Check"
   ]
  },
  {
   "cell_type": "code",
   "execution_count": null,
   "metadata": {},
   "outputs": [],
   "source": [
    "frame1 = cv2.cvtColor(cv2.imread(frame_paths[1]), cv2.COLOR_BGR2RGB)\n",
    "frame2 = cv2.cvtColor(cv2.imread(frame_paths[2]), cv2.COLOR_BGR2RGB)\n",
    "frame3 = cv2.cvtColor(cv2.imread(frame_paths[3]), cv2.COLOR_BGR2RGB)"
   ]
  },
  {
   "cell_type": "code",
   "execution_count": null,
   "metadata": {},
   "outputs": [],
   "source": [
    "# get previous estimate at 1/8 res\n",
    "flow_lo, flow_up = inference(model, frame1, frame2, device='cuda', pad_mode=None, iters=20, test_mode=True)\n",
    "\n",
    "# 0 initialization\n",
    "flow_lo_cold, flow_up_cold = inference(model, frame2, frame3, device='cuda', pad_mode=None, flow_init=None, iters=20, test_mode=True)\n",
    "\n",
    "# warm initialization\n",
    "flow_lo_warm, flow_up_warm = inference(model, frame2, frame3, device='cuda', pad_mode=None, flow_init=flow_lo, iters=20, test_mode=True)\n"
   ]
  },
  {
   "cell_type": "code",
   "execution_count": null,
   "metadata": {},
   "outputs": [],
   "source": [
    "f, (ax0, ax1) = plt.subplots(1,2, figsize=(20,10))\n",
    "\n",
    "ax0.imshow(frame3)\n",
    "ax0.set_title('Original Video')\n",
    "ax0.axis(False)\n",
    "ax1.imshow(get_viz(flow_up_warm))\n",
    "ax1.axis(False)\n",
    "ax1.set_title('Estimated Flow');"
   ]
  },
  {
   "cell_type": "markdown",
   "metadata": {},
   "source": [
    "## Make the GIF"
   ]
  },
  {
   "cell_type": "code",
   "execution_count": null,
   "metadata": {},
   "outputs": [],
   "source": [
    "from PIL import Image\n",
    "\n",
    "\n",
    "def create_gif_from_images(save_path, image_path, ext):\n",
    "    ''' creates a GIF from a folder of images\n",
    "        Inputs:\n",
    "            save_path (str) - path to save GIF\n",
    "            image_path (str) - path where images are located\n",
    "            ext (str) - extension of the images\n",
    "        Outputs:\n",
    "            None\n",
    "        \n",
    "        Update:\n",
    "            Add functionality for multiple extensions\n",
    "    '''\n",
    "    image_paths = sorted(glob(os.path.join(image_path, f'*.{ext}')))\n",
    "\n",
    "    pil_images = [Image.open(im_path ) for im_path in image_paths]\n",
    "\n",
    "    pil_images[0].save(save_path, format='GIF', append_images=pil_images,\n",
    "                      save_all=True, duration=50, loop=0)\n",
    "    "
   ]
  },
  {
   "cell_type": "code",
   "execution_count": null,
   "metadata": {},
   "outputs": [],
   "source": []
  },
  {
   "cell_type": "code",
   "execution_count": null,
   "metadata": {},
   "outputs": [],
   "source": [
    "for i, (fp, flo) in enumerate(zip(frame_paths[1:], flow_frames)):\n",
    "    frame = cv2.cvtColor(cv2.imread(fp), cv2.COLOR_BGR2RGB)\n",
    "\n",
    "    fig, (ax0, ax1) = plt.subplots(1,2, figsize=(20,10))\n",
    "\n",
    "    ax0.imshow(frame)\n",
    "    ax0.set_title('Original Video')\n",
    "    ax0.axis(False)\n",
    "    ax1.imshow(get_viz(flo))\n",
    "    ax1.axis(False)\n",
    "    ax1.set_title('Estimated Flow');\n",
    "\n",
    "    fig.savefig(f\"test_images/flow_{i}.jpg\")\n",
    "    plt.close();\n",
    "    "
   ]
  },
  {
   "cell_type": "code",
   "execution_count": null,
   "metadata": {},
   "outputs": [],
   "source": [
    "\n",
    "gif_frame_paths = sorted(glob(os.path.join('test_images', f'*.jpg')))\n",
    "gif_frame_paths.sort(key=lambda f: int(''.join(filter(str.isdigit, f))))\n",
    "gif_path = 'test_images/flow.gif'\n"
   ]
  },
  {
   "cell_type": "code",
   "execution_count": null,
   "metadata": {},
   "outputs": [],
   "source": [
    "pil_images = [Image.open(im_path) for im_path in gif_frame_paths]\n",
    "pil_images[0].save(gif_path, format='GIF', append_images=pil_images,\n",
    "                      save_all=True, duration=50, loop=0)"
   ]
  },
  {
   "cell_type": "code",
   "execution_count": null,
   "metadata": {},
   "outputs": [],
   "source": []
  }
 ],
 "metadata": {
  "kernelspec": {
   "display_name": "base",
   "language": "python",
   "name": "python3"
  },
  "language_info": {
   "codemirror_mode": {
    "name": "ipython",
    "version": 3
   },
   "file_extension": ".py",
   "mimetype": "text/x-python",
   "name": "python",
   "nbconvert_exporter": "python",
   "pygments_lexer": "ipython3",
   "version": "3.11.5"
  },
  "orig_nbformat": 4
 },
 "nbformat": 4,
 "nbformat_minor": 2
}
