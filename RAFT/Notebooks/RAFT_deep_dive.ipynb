{
  "cells": [
    {
      "cell_type": "markdown",
      "metadata": {
        "colab_type": "text",
        "id": "view-in-github"
      },
      "source": [
        "<a href=\"https://colab.research.google.com/github/itberrios/CV_projects/blob/main/RAFT/RAFT_deep_dive.ipynb\" target=\"_parent\"><img src=\"https://colab.research.google.com/assets/colab-badge.svg\" alt=\"Open In Colab\"/></a>"
      ]
    },
    {
      "cell_type": "markdown",
      "metadata": {
        "id": "FFEv_BfYN6ax"
      },
      "source": [
        "# **RAFT Deep Dive**\n",
        "\n",
        "## NOTE: GPU is required for this tutorial"
      ]
    },
    {
      "cell_type": "markdown",
      "metadata": {
        "id": "NRApKn5gOtFr"
      },
      "source": [
        "Get RAFT and RAFT helper script"
      ]
    },
    {
      "cell_type": "code",
      "execution_count": null,
      "metadata": {
        "colab": {
          "base_uri": "https://localhost:8080/"
        },
        "id": "cc_y-j-PN4KI",
        "outputId": "26a803c9-49da-4bdd-c257-9b810d3e8215"
      },
      "outputs": [],
      "source": [
        "!git clone https://github.com/princeton-vl/RAFT.git"
      ]
    },
    {
      "cell_type": "code",
      "execution_count": null,
      "metadata": {
        "colab": {
          "base_uri": "https://localhost:8080/"
        },
        "id": "nGONWZcGOvXy",
        "outputId": "89230158-f352-4a34-d6ee-457d137e0dfe"
      },
      "outputs": [],
      "source": [
        "!wget https://raw.githubusercontent.com/itberrios/CV_projects/main/RAFT/raft_utils.py"
      ]
    },
    {
      "cell_type": "code",
      "execution_count": null,
      "metadata": {
        "id": "AUiFUYjMPLa1"
      },
      "outputs": [],
      "source": [
        "import os\n",
        "import sys\n",
        "import numpy as np\n",
        "import cv2\n",
        "import pandas as pd\n",
        "\n",
        "import torch\n",
        "import torch.nn as nn\n",
        "import torch.nn.functional as F\n",
        "\n",
        "from raft_utils import *\n",
        "\n",
        "import matplotlib.pyplot as plt\n",
        "%matplotlib inline"
      ]
    },
    {
      "cell_type": "code",
      "execution_count": null,
      "metadata": {
        "id": "V3EDAh6uPOde"
      },
      "outputs": [],
      "source": [
        "# add RAFT to core path\n",
        "sys.path.append('RAFT/core')"
      ]
    },
    {
      "cell_type": "code",
      "execution_count": null,
      "metadata": {
        "id": "8d2nV_zWPUgS"
      },
      "outputs": [],
      "source": [
        "# download models\n",
        "%cd RAFT\n",
        "!./download_models.sh\n",
        "%cd .."
      ]
    },
    {
      "cell_type": "markdown",
      "metadata": {
        "id": "xv01eszUPp1d"
      },
      "source": [
        "### Test Run RAFT"
      ]
    },
    {
      "cell_type": "code",
      "execution_count": null,
      "metadata": {
        "id": "vjsHHafoPmJ6"
      },
      "outputs": [],
      "source": [
        "demo_path = 'RAFT/demo-frames'\n",
        "frame1 = cv2.imread(os.path.join(demo_path, 'frame_0020.png'))\n",
        "frame2 = cv2.imread(os.path.join(demo_path, 'frame_0021.png'))\n",
        "\n",
        "frame1 = cv2.cvtColor(frame1, cv2.COLOR_BGR2RGB)\n",
        "frame2 = cv2.cvtColor(frame2, cv2.COLOR_BGR2RGB)"
      ]
    },
    {
      "cell_type": "code",
      "execution_count": null,
      "metadata": {
        "colab": {
          "base_uri": "https://localhost:8080/",
          "height": 365
        },
        "id": "yUFHuc2dPK3x",
        "outputId": "2de703ba-ec96-4eb3-9561-f4a6a03b8b27"
      },
      "outputs": [],
      "source": [
        "_, ax = plt.subplots(1, 2, figsize=(20, 10))\n",
        "ax[0].imshow(frame1)\n",
        "ax[1].imshow(frame2);"
      ]
    },
    {
      "cell_type": "code",
      "execution_count": null,
      "metadata": {
        "colab": {
          "base_uri": "https://localhost:8080/"
        },
        "id": "Z2BbwKYPPso4",
        "outputId": "b0b2186d-0b5b-4bc2-b474-a641f68798d6"
      },
      "outputs": [],
      "source": [
        "# load model\n",
        "model = load_model(\"RAFT/models/raft-sintel.pth\", args=Args())\n",
        "\n",
        "# predict Optical Flow\n",
        "flow_iters = inference(model, frame1, frame2, device='cuda', test_mode=False)"
      ]
    },
    {
      "cell_type": "code",
      "execution_count": null,
      "metadata": {
        "colab": {
          "base_uri": "https://localhost:8080/",
          "height": 385
        },
        "id": "uQREfDEHP9gu",
        "outputId": "5c744c10-c214-44b6-8d21-cf865ac23fea"
      },
      "outputs": [],
      "source": [
        "_, (ax0, ax1) = plt.subplots(1,2, figsize=(20,10))\n",
        "\n",
        "ax0.imshow(get_viz(flow_iters[0]))\n",
        "ax0.set_title('first flow iteration')\n",
        "ax1.imshow(get_viz(flow_iters[-1]))\n",
        "ax1.set_title('final flow iteration');"
      ]
    },
    {
      "cell_type": "markdown",
      "metadata": {
        "id": "xdLlQHkdRP2H"
      },
      "source": [
        "Get final optical flow iteration and find some pixels of interest i.e. pixels with high flow and pixels with low flow"
      ]
    },
    {
      "cell_type": "code",
      "execution_count": null,
      "metadata": {
        "colab": {
          "base_uri": "https://localhost:8080/"
        },
        "id": "Rk5a9d6uQO84",
        "outputId": "78e667b9-2349-4c5d-a8e2-c53eeadb2c94"
      },
      "outputs": [],
      "source": [
        "flow = flow_iters[-1].squeeze(0).cpu().numpy()\n",
        "abs_flow = np.abs(flow)\n",
        "flow.shape"
      ]
    },
    {
      "cell_type": "code",
      "execution_count": null,
      "metadata": {
        "id": "pQC2Ql_OQO5R"
      },
      "outputs": [],
      "source": [
        "# highest abs flow in each direction\n",
        "hi_flow_1 = np.where(abs_flow == abs_flow[0, :, :].max()) # u - horizontal\n",
        "hi_flow_2 = np.where(abs_flow == abs_flow[1, :, :].max()) # v - vertical\n",
        "\n",
        "# lowest abs flow in each direction\n",
        "lo_flow_1 = np.where(abs_flow == abs_flow[0, :, :].min()) # u - horizontal\n",
        "lo_flow_2 = np.where(abs_flow == abs_flow[1, :, :].min()) # v - vertical"
      ]
    },
    {
      "cell_type": "code",
      "execution_count": null,
      "metadata": {
        "colab": {
          "base_uri": "https://localhost:8080/"
        },
        "id": "nPZrebO5QOqm",
        "outputId": "4ebdc14c-65e3-4024-debb-a2166f9aae85"
      },
      "outputs": [],
      "source": [
        "flow[lo_flow_1], flow[lo_flow_2], flow[hi_flow_1], flow[hi_flow_2]"
      ]
    },
    {
      "cell_type": "markdown",
      "metadata": {
        "id": "-i5n91PeQ4SB"
      },
      "source": [
        "# **Explore Different Blocks of RAFT**\n",
        "\n",
        "First preprocess the data"
      ]
    },
    {
      "cell_type": "code",
      "execution_count": null,
      "metadata": {
        "id": "ypaSU-y_Q22i"
      },
      "outputs": [],
      "source": [
        "demo_path = 'RAFT/demo-frames'\n",
        "frame1 = cv2.imread(os.path.join(demo_path, 'frame_0020.png'))\n",
        "frame2 = cv2.imread(os.path.join(demo_path, 'frame_0021.png'))\n",
        "\n",
        "frame1 = cv2.cvtColor(frame1, cv2.COLOR_BGR2RGB)\n",
        "frame2 = cv2.cvtColor(frame2, cv2.COLOR_BGR2RGB)\n",
        "\n",
        "\n",
        "# neural net processing\n",
        "frame1 = process_img(frame1, device='cuda')\n",
        "frame2 = process_img(frame2, device='cuda')\n",
        "\n",
        "padder = InputPadder(frame1.shape, mode='sintel')\n",
        "frame1, frame2 = padder.pad(frame1, frame2)\n",
        "\n",
        "frame1 = 2 * (frame1 / 255.0) - 1.0\n",
        "frame2 = 2 * (frame2 / 255.0) - 1.0\n",
        "\n",
        "frame1 = frame1.contiguous()\n",
        "frame2 = frame2.contiguous()"
      ]
    },
    {
      "cell_type": "markdown",
      "metadata": {
        "id": "NsFYxajGQn5B"
      },
      "source": [
        "## **Explore the Correlation Block**"
      ]
    },
    {
      "cell_type": "code",
      "execution_count": null,
      "metadata": {
        "id": "c3yUl1BGQH3P"
      },
      "outputs": [],
      "source": [
        "from corr import CorrBlock\n",
        "\n",
        "# compute feature maps\n",
        "with torch.autocast(device_type='cuda', enabled=True):\n",
        "    fmap1, fmap2 = model.module.fnet([frame1, frame2])\n",
        "\n",
        "fmap1 = fmap1.float()\n",
        "fmap2 = fmap2.float()\n",
        "\n",
        "# compute correlation pyramid\n",
        "corr_fn = CorrBlock(fmap1, fmap2, num_levels=4, radius=4)"
      ]
    },
    {
      "cell_type": "code",
      "execution_count": null,
      "metadata": {
        "colab": {
          "base_uri": "https://localhost:8080/"
        },
        "id": "1OzQfJO-QsyD",
        "outputId": "efe763ee-ac55-4912-c3f0-5bfa5d4caa06"
      },
      "outputs": [],
      "source": [
        "# check sizes of correlation pyramid\n",
        "print(frame1.shape)\n",
        "cov_mats = []\n",
        "for i in range(4):\n",
        "  print(corr_fn.corr_pyramid[i].shape)\n",
        "  cov_mats.append(np.cov(corr_fn.corr_pyramid[i].detach().cpu().numpy().reshape((7040, -1), order='c'), rowvar=False))"
      ]
    },
    {
      "cell_type": "markdown",
      "metadata": {
        "id": "iaRTgjyLsITO"
      },
      "source": [
        "From this print out we can see that each fine pixel (from frame 1) has a corresponding feature map. As we go up the pyramid, we can see that these feature maps get smaller due to the average pooling operation. The average pooling operation should also introduce correlations. For example in the first level (no pooling) each pixel from frame 2 corresponds to a single pixel from frame 1. In the second level, each pixel from frame 2 will correspond to four pixels in frame 1 and so fourth. So we are essentially introducing greater and greater spatial correlations by average pooling the last two dimensions of the correlation volume"
      ]
    },
    {
      "cell_type": "code",
      "execution_count": null,
      "metadata": {
        "colab": {
          "base_uri": "https://localhost:8080/"
        },
        "id": "zMlks9FojMFk",
        "outputId": "55c2b3a7-c5f2-4ccf-9def-a8af42dfa007"
      },
      "outputs": [],
      "source": [
        "corr_fn.corr_pyramid[i].detach().cpu().numpy().reshape((7040, -1)).shape"
      ]
    },
    {
      "cell_type": "markdown",
      "metadata": {
        "id": "3B1cgSFkr4kg"
      },
      "source": [
        "At this point we want to visualize how each the feature maps that correspond to each fine pixel of frame 1 vary with eachother. At each level we will have 7040 samples of each feature map, we want to see how each of these feature maps is related"
      ]
    },
    {
      "cell_type": "code",
      "execution_count": null,
      "metadata": {
        "id": "FIQxQGftmb8S"
      },
      "outputs": [],
      "source": [
        "normed_covs = []\n",
        "for c in cov_mats:\n",
        "    normed_covs.append(cv2.normalize(c, dst=None, alpha=0.00001, beta=1.00001, norm_type=cv2.NORM_MINMAX, dtype=cv2.CV_32F))"
      ]
    },
    {
      "cell_type": "code",
      "execution_count": null,
      "metadata": {
        "colab": {
          "base_uri": "https://localhost:8080/",
          "height": 930
        },
        "id": "cWzZwwuCpDmc",
        "outputId": "b4453914-48a6-443a-db3f-63ea104285cc"
      },
      "outputs": [],
      "source": [
        "fig, ax = plt.subplots(2, 2, figsize=(10, 10))\n",
        "fig.suptitle(\"Covariances of each feature map\")\n",
        "ax[0, 0].imshow(normed_covs[0])\n",
        "ax[0, 0].set_title(\"Pyramid Level 0\")\n",
        "ax[0, 1].imshow(normed_covs[1])\n",
        "ax[0, 1].set_title(\"Pyramid Level 1\")\n",
        "ax[1, 0].imshow(normed_covs[2])\n",
        "ax[1, 0].set_title(\"Pyramid Level 2\")\n",
        "ax[1, 1].imshow(normed_covs[3])\n",
        "ax[1, 1].set_title(\"Pyramid Level 3\");"
      ]
    },
    {
      "cell_type": "markdown",
      "metadata": {
        "id": "8kkJlI-6rDq-"
      },
      "source": [
        "Eventhough we can see the strong cross correlations of the higher feature maps, the displayed covariances of each feature map aren't too helpful for this purpose. Let's look at the middle pixel of each pyramid and see how it relates to the surrounding pixels. To do this, we will just index the middel pixel row of each covariance matrix and plot the columns."
      ]
    },
    {
      "cell_type": "code",
      "execution_count": null,
      "metadata": {
        "colab": {
          "base_uri": "https://localhost:8080/",
          "height": 853
        },
        "id": "X9M87-rGpIDM",
        "outputId": "6e5c5973-0393-4099-f319-0bffc4387f9b"
      },
      "outputs": [],
      "source": [
        "_, ax = plt.subplots(2, 2, figsize=(10, 10), sharey=True)\n",
        "ax[0, 0].plot(np.log(normed_covs[0][3250, :]))\n",
        "ax[0, 0].set_title(\"Pyramid Level 0\")\n",
        "ax[0, 1].plot(np.log(normed_covs[1][864, :]))\n",
        "ax[0, 1].set_title(\"Pyramid Level 1\")\n",
        "ax[1, 0].plot(np.log(normed_covs[2][208, :]))\n",
        "ax[1, 0].set_title(\"Pyramid Level 2\")\n",
        "ax[1, 1].plot(np.log(normed_covs[3][48, :]))\n",
        "ax[1, 1].set_title(\"Pyramid Level 3\");"
      ]
    },
    {
      "cell_type": "markdown",
      "metadata": {
        "id": "_A-8mWzNuj-I"
      },
      "source": [
        "We can see at level 0 (no pooling and no correlations) that there is a single spike (self-correlation) but the remaining pixels are just noise). there is a similar relationship at pyramid level 1 (1 avg pool). However, at levels 2 and 3 we can start to see some rolloff from the center, indicating that the middle pixel has relationships with it's surrounding pixels."
      ]
    },
    {
      "cell_type": "code",
      "execution_count": null,
      "metadata": {
        "colab": {
          "base_uri": "https://localhost:8080/",
          "height": 853
        },
        "id": "VnrXvHBGNOid",
        "outputId": "11dbd016-814a-4dcf-b6b9-7b2fa051e75e"
      },
      "outputs": [],
      "source": [
        "_, ax = plt.subplots(2, 2, figsize=(10, 10), sharey=True)\n",
        "ax[0, 0].plot(np.log(normed_covs[0][813, :]))\n",
        "ax[0, 0].set_title(\"Pyramid Level 0\")\n",
        "ax[0, 1].plot(np.log(normed_covs[1][216, :]))\n",
        "ax[0, 1].set_title(\"Pyramid Level 1\")\n",
        "ax[1, 0].plot(np.log(normed_covs[2][52, :]))\n",
        "ax[1, 0].set_title(\"Pyramid Level 2\")\n",
        "ax[1, 1].plot(np.log(normed_covs[3][12, :]))\n",
        "ax[1, 1].set_title(\"Pyramid Level 3\");"
      ]
    },
    {
      "cell_type": "markdown",
      "metadata": {
        "id": "oc6WWsSvRgMK"
      },
      "source": [
        "Initialize the flow"
      ]
    },
    {
      "cell_type": "code",
      "execution_count": null,
      "metadata": {
        "id": "GxiqjolERNfR"
      },
      "outputs": [],
      "source": [
        "# returns a mesh grid tensor at 1/8 the sizee of the input frame\n",
        "coords0, coords1 = model.module.initialize_flow(frame1)"
      ]
    },
    {
      "cell_type": "markdown",
      "metadata": {
        "id": "jqfn0ksTURR-"
      },
      "source": [
        "## **Explore Correlation Look Up Operator**\n",
        "#### Go through code to index correlation volume"
      ]
    },
    {
      "cell_type": "code",
      "execution_count": null,
      "metadata": {
        "id": "SnJYGlm-SCA1"
      },
      "outputs": [],
      "source": [
        "r = 4 # radius\n",
        "coords = coords1.detach().permute(0, 2, 3, 1)\n",
        "batch, h1, w1, _ = coords.shape\n",
        "out_pyramid = []"
      ]
    },
    {
      "cell_type": "code",
      "execution_count": null,
      "metadata": {
        "id": "FRgq-h5NUf4X"
      },
      "outputs": [],
      "source": [
        "i = 0\n",
        "_corr = corr_fn.corr_pyramid[i]\n",
        "dx = torch.linspace(-r, r, 2*r+1, device=coords.device)\n",
        "dy = torch.linspace(-r, r, 2*r+1, device=coords.device)\n",
        "delta = torch.stack(torch.meshgrid(dy, dx), axis=-1)"
      ]
    },
    {
      "cell_type": "code",
      "execution_count": null,
      "metadata": {
        "colab": {
          "base_uri": "https://localhost:8080/"
        },
        "id": "eh0vy2o6Uf0g",
        "outputId": "00a6624a-c73e-407a-cbf0-055f8a10815b"
      },
      "outputs": [],
      "source": [
        "dx, dy, delta.shape"
      ]
    },
    {
      "cell_type": "code",
      "execution_count": null,
      "metadata": {
        "id": "XOR8sdvOUqky"
      },
      "outputs": [],
      "source": [
        "centroid_lvl = coords.reshape(batch*h1*w1, 1, 1, 2) / 2**i\n",
        "delta_lvl = delta.view(1, 2*r+1, 2*r+1, 2)\n",
        "coords_lvl = centroid_lvl + delta_lvl"
      ]
    },
    {
      "cell_type": "code",
      "execution_count": null,
      "metadata": {
        "colab": {
          "base_uri": "https://localhost:8080/"
        },
        "id": "c3BF8ncSfs3j",
        "outputId": "9c99516a-035d-408c-baf7-a95d3c4f9f78"
      },
      "outputs": [],
      "source": [
        "centroid_lvl[1, :, :, :]"
      ]
    },
    {
      "cell_type": "code",
      "execution_count": null,
      "metadata": {
        "colab": {
          "base_uri": "https://localhost:8080/"
        },
        "id": "u_eizuV7UonX",
        "outputId": "e2310d5b-4b94-4a38-95ce-42e461de1e60"
      },
      "outputs": [],
      "source": [
        "centroid_lvl.shape, delta_lvl.shape, coords_lvl.shape"
      ]
    },
    {
      "cell_type": "code",
      "execution_count": null,
      "metadata": {
        "colab": {
          "base_uri": "https://localhost:8080/"
        },
        "id": "wuq-ixC1fhOR",
        "outputId": "e9a9a8b7-ef9e-455b-c0ac-7240e5a1e1fd"
      },
      "outputs": [],
      "source": [
        "centroid_lvl[10, :, :, :]"
      ]
    },
    {
      "cell_type": "markdown",
      "metadata": {
        "id": "w8N39iXZNVx_"
      },
      "source": [
        "#### Set Exploration Index"
      ]
    },
    {
      "cell_type": "code",
      "execution_count": null,
      "metadata": {
        "colab": {
          "base_uri": "https://localhost:8080/"
        },
        "id": "a0xJazXaTdsU",
        "outputId": "7c51a6b2-575f-4adb-ccb5-4ed3fbdc068e"
      },
      "outputs": [],
      "source": [
        "lo_flow_1"
      ]
    },
    {
      "cell_type": "code",
      "execution_count": null,
      "metadata": {
        "colab": {
          "base_uri": "https://localhost:8080/"
        },
        "id": "l8FpHkiTTwYH",
        "outputId": "8eb5139d-0a7e-4ca5-fa8c-0f541ae01d91"
      },
      "outputs": [],
      "source": [
        "frame1.shape"
      ]
    },
    {
      "cell_type": "code",
      "execution_count": null,
      "metadata": {
        "colab": {
          "base_uri": "https://localhost:8080/"
        },
        "id": "69LX1LDiURNp",
        "outputId": "0a55275a-ed86-4e3c-d1f1-751b84da082f"
      },
      "outputs": [],
      "source": [
        "1024/8"
      ]
    },
    {
      "cell_type": "code",
      "execution_count": null,
      "metadata": {
        "colab": {
          "base_uri": "https://localhost:8080/"
        },
        "id": "xou5t7mPUuH5",
        "outputId": "206929fd-9e88-41a0-abd7-763bc1b61908"
      },
      "outputs": [],
      "source": [
        "322/8, 373/8"
      ]
    },
    {
      "cell_type": "code",
      "execution_count": null,
      "metadata": {
        "id": "xhb6QH8pWRVd"
      },
      "outputs": [],
      "source": [
        "def get_corr_idx(loc):\n",
        "    u = np.clip(np.round(loc[2]/8), 0, 127)\n",
        "    v = np.clip(np.round(loc[1]/8), 0, 54)\n",
        "    return int(u + 128*v)"
      ]
    },
    {
      "cell_type": "code",
      "execution_count": null,
      "metadata": {
        "colab": {
          "base_uri": "https://localhost:8080/"
        },
        "id": "8YQ8sUvaZD6z",
        "outputId": "45594cdd-eca7-47be-e9aa-e82323b78970"
      },
      "outputs": [],
      "source": [
        "flow.shape"
      ]
    },
    {
      "cell_type": "code",
      "execution_count": null,
      "metadata": {
        "colab": {
          "base_uri": "https://localhost:8080/"
        },
        "id": "XeO1vL0vZFUJ",
        "outputId": "3fb58a08-19da-4490-a6b0-1de3cc6822b8"
      },
      "outputs": [],
      "source": [
        "hi_flow_1"
      ]
    },
    {
      "cell_type": "code",
      "execution_count": null,
      "metadata": {
        "colab": {
          "base_uri": "https://localhost:8080/"
        },
        "id": "5RHDbTOxXPKB",
        "outputId": "b225c227-b586-406c-99e2-c0618226282d"
      },
      "outputs": [],
      "source": [
        "hi_flow_2"
      ]
    },
    {
      "cell_type": "code",
      "execution_count": null,
      "metadata": {
        "colab": {
          "base_uri": "https://localhost:8080/"
        },
        "id": "PnTChIoWXQkI",
        "outputId": "9884b070-d82b-4570-8f14-93c5c6a80fc0"
      },
      "outputs": [],
      "source": [
        "439/8, 343/8"
      ]
    },
    {
      "cell_type": "code",
      "execution_count": null,
      "metadata": {
        "colab": {
          "base_uri": "https://localhost:8080/"
        },
        "id": "bs61O3lpXSP6",
        "outputId": "7699ab6b-e727-4c70-c3e5-3330e286db7f"
      },
      "outputs": [],
      "source": [
        "40 + 57*128"
      ]
    },
    {
      "cell_type": "code",
      "execution_count": null,
      "metadata": {
        "colab": {
          "base_uri": "https://localhost:8080/"
        },
        "id": "U8RR6MLtXhYQ",
        "outputId": "58ff374f-78b8-4932-f776-bd06566a1c03"
      },
      "outputs": [],
      "source": [
        "43 + 128*55"
      ]
    },
    {
      "cell_type": "code",
      "execution_count": null,
      "metadata": {
        "colab": {
          "base_uri": "https://localhost:8080/"
        },
        "id": "gIt9RU07XvBQ",
        "outputId": "ffd622d6-d869-4030-f449-f54d98bbcd12"
      },
      "outputs": [],
      "source": [
        "centroid_lvl.shape"
      ]
    },
    {
      "cell_type": "code",
      "execution_count": null,
      "metadata": {
        "colab": {
          "base_uri": "https://localhost:8080/"
        },
        "id": "jOFg5mcaYqWF",
        "outputId": "cd12177f-6265-4b14-bb32-5713ab995e10"
      },
      "outputs": [],
      "source": [
        "get_corr_idx(hi_flow_2)"
      ]
    },
    {
      "cell_type": "code",
      "execution_count": null,
      "metadata": {
        "colab": {
          "base_uri": "https://localhost:8080/"
        },
        "id": "Flbiyip1YrfT",
        "outputId": "d53760d1-6b9e-4946-e8d9-728fa3dafce3"
      },
      "outputs": [],
      "source": [
        "57 + 128*40"
      ]
    },
    {
      "cell_type": "code",
      "execution_count": null,
      "metadata": {
        "colab": {
          "base_uri": "https://localhost:8080/"
        },
        "id": "6KKr3Dsraxfc",
        "outputId": "7fd76534-26dd-4311-da73-6dace2deacf9"
      },
      "outputs": [],
      "source": [
        "flow.shape"
      ]
    },
    {
      "cell_type": "code",
      "execution_count": null,
      "metadata": {
        "colab": {
          "base_uri": "https://localhost:8080/"
        },
        "id": "7J13fK1LY8SV",
        "outputId": "6a393511-526e-4cbb-9c5f-d3e89b4cfddc"
      },
      "outputs": [],
      "source": [
        "hi_flow_2"
      ]
    },
    {
      "cell_type": "code",
      "execution_count": null,
      "metadata": {
        "colab": {
          "base_uri": "https://localhost:8080/"
        },
        "id": "kKGdeLa8YxKN",
        "outputId": "76993e4c-7371-49c1-e630-287fb2188ba6"
      },
      "outputs": [],
      "source": [
        "439/8, 343/8"
      ]
    },
    {
      "cell_type": "code",
      "execution_count": null,
      "metadata": {
        "colab": {
          "base_uri": "https://localhost:8080/"
        },
        "id": "nEfj_3UGY5dU",
        "outputId": "60f5d04a-cbed-4594-aac9-52de074393f0"
      },
      "outputs": [],
      "source": [
        "get_corr_idx(hi_flow_1)"
      ]
    },
    {
      "cell_type": "code",
      "execution_count": null,
      "metadata": {
        "id": "EZZgJf1WY5m6"
      },
      "outputs": [],
      "source": []
    },
    {
      "cell_type": "code",
      "execution_count": null,
      "metadata": {
        "colab": {
          "base_uri": "https://localhost:8080/"
        },
        "id": "SElxWwNcNbSt",
        "outputId": "6e68bf3f-48b7-408d-e115-a6273969ebdc"
      },
      "outputs": [],
      "source": [
        "idx = get_corr_idx(lo_flow_1)\n",
        "\n",
        "pixel_loc = centroid_lvl[idx, :, :, :].cpu().numpy().squeeze()\n",
        "pixel_loc"
      ]
    },
    {
      "cell_type": "code",
      "execution_count": null,
      "metadata": {
        "colab": {
          "base_uri": "https://localhost:8080/"
        },
        "id": "S0I5q5MuaPYQ",
        "outputId": "e4f8cfcc-aaf4-404c-922c-fa5a523bc692"
      },
      "outputs": [],
      "source": [
        "idx"
      ]
    },
    {
      "cell_type": "code",
      "execution_count": null,
      "metadata": {
        "colab": {
          "base_uri": "https://localhost:8080/"
        },
        "id": "05g1CL-KQPHN",
        "outputId": "0986d9a2-07a8-4d17-d9d3-cf011fbb666c"
      },
      "outputs": [],
      "source": [
        "coords_lvl[idx, :, :, 0],coords_lvl[idx, :, :, 1]"
      ]
    },
    {
      "cell_type": "code",
      "execution_count": null,
      "metadata": {
        "colab": {
          "base_uri": "https://localhost:8080/"
        },
        "id": "mhjjg_gGOY5v",
        "outputId": "5c631178-fe88-4c97-ca65-08f3f99f523f"
      },
      "outputs": [],
      "source": [
        "xi0, xi1 = coords_lvl[idx, 0, 0, 0].cpu().numpy(), coords_lvl[idx, -1, 0, 0].cpu().numpy() + 1\n",
        "yi0, yi1 = coords_lvl[idx, 0, 0, 1].cpu().numpy(), coords_lvl[idx, 0, -1, 1].cpu().numpy() + 1\n",
        "\n",
        "xi0, xi1 = int(np.clip(xi0, 0, np.infty)), int(np.clip(xi1, 0, np.infty))\n",
        "yi0, yi1 = int(np.clip(yi0, 0, np.infty)), int(np.clip(yi1, 0, np.infty))\n",
        "\n",
        "# xi0, xi1 = int(xi0), int(xi1)\n",
        "# yi0, yi1 = int(yi0), int(yi1)\n",
        "\n",
        "xi0, xi1, yi0, yi1"
      ]
    },
    {
      "cell_type": "markdown",
      "metadata": {
        "id": "yEIqb5MmV2S5"
      },
      "source": [
        "Sample from the correlation response at each fine pixel"
      ]
    },
    {
      "cell_type": "code",
      "execution_count": null,
      "metadata": {
        "id": "LIEdo47TUoix"
      },
      "outputs": [],
      "source": [
        "from RAFT.core.utils.utils import bilinear_sampler\n",
        "\n",
        "corr = bilinear_sampler(_corr, coords_lvl)"
      ]
    },
    {
      "cell_type": "code",
      "execution_count": null,
      "metadata": {
        "colab": {
          "base_uri": "https://localhost:8080/"
        },
        "id": "FFzhB9yYUoJL",
        "outputId": "e38623e4-863c-4545-ac65-e8bc0902c1e3"
      },
      "outputs": [],
      "source": [
        "corr.shape, _corr.shape, coords_lvl.shape"
      ]
    },
    {
      "cell_type": "markdown",
      "metadata": {
        "id": "ttkFCMKhXY_l"
      },
      "source": [
        "### Plot Results"
      ]
    },
    {
      "cell_type": "code",
      "execution_count": null,
      "metadata": {
        "id": "dYLTF0bPYV-X"
      },
      "outputs": [],
      "source": [
        "# get RGB correlation response for display\n",
        "corr_response = _corr[idx, 0, :, :].detach().cpu().numpy()\n",
        "# corr_response = cv2.normalize(corr_response, dst=None, alpha=0, beta=255, norm_type=cv2.NORM_MINMAX, dtype=cv2.CV_8UC1)\n",
        "# corr_response = np.dstack((corr_response, corr_response, corr_response))"
      ]
    },
    {
      "cell_type": "code",
      "execution_count": null,
      "metadata": {
        "colab": {
          "base_uri": "https://localhost:8080/",
          "height": 468
        },
        "id": "sIAZiepSXaPt",
        "outputId": "2e18ccb2-757c-4424-b4ce-a5a67bbe1264"
      },
      "outputs": [],
      "source": [
        "import matplotlib.patches as patches\n",
        "\n",
        "_, ax = plt.subplots(1, 1, figsize=(15, 5))\n",
        "ax.imshow(corr_response);\n",
        "ax.set_title(f\"Correlation Response at Pyramid level: {i} and pixel: {pixel_loc}\");\n",
        "\n",
        "# mark I2 pixel under test\n",
        "rect = patches.Rectangle(pixel_loc - 0.5, 1, 1, linewidth=2, edgecolor='r', facecolor='none')\n",
        "# ax.add_patch(rect)\n",
        "\n",
        "plt.show();"
      ]
    },
    {
      "cell_type": "code",
      "execution_count": null,
      "metadata": {
        "colab": {
          "base_uri": "https://localhost:8080/"
        },
        "id": "IdafJaQQVvtX",
        "outputId": "a12700b1-0572-44c8-95ae-23477aa14954"
      },
      "outputs": [],
      "source": [
        "corr_response.min(), corr_response.max(), corr_response.mean(), np.median(corr_response), corr_response.sum()"
      ]
    },
    {
      "cell_type": "code",
      "execution_count": null,
      "metadata": {
        "colab": {
          "base_uri": "https://localhost:8080/",
          "height": 787
        },
        "id": "cdHbBLPvNi-r",
        "outputId": "f57b235b-946b-4f94-f1b9-cccfa060361c"
      },
      "outputs": [],
      "source": [
        "_, (ax0, ax1) = plt.subplots(1,2, figsize=(20,10))\n",
        "\n",
        "# ax0.imshow(_corr[idx, 0, 19:28, 52:61].detach().cpu().numpy().T)\n",
        "# ax0.set_title(f\"Correlation Input at index {idx}\")\n",
        "# ax1.imshow(corr[idx, 0, :, :].detach().cpu().numpy())\n",
        "# ax1.set_title(f\"Correlation Output at index {idx}\");\n",
        "\n",
        "# ensure orientations are consistentidx\n",
        "# input_corr = _corr[idx, 0, yi0:yi1, xi0:xi1].detach().cpu().numpy()\n",
        "# output_corr = corr[idx, 0, :, :].detach().cpu().numpy().T\n",
        "\n",
        "input_corr = _corr[idx, 0, yi0:yi1, xi0:xi1].detach().cpu().numpy().T\n",
        "output_corr = corr[idx, 0, :, :].detach().cpu().numpy()\n",
        "\n",
        "ax0.imshow(input_corr)\n",
        "ax0.set_title(f\"Correlation Input at index {pixel_loc} (zero padding not shown)\")\n",
        "ax1.imshow(output_corr)\n",
        "ax1.set_title(f\"Correlation Output at index {pixel_loc}\");"
      ]
    },
    {
      "cell_type": "markdown",
      "metadata": {
        "id": "BC_Qete_hAsR"
      },
      "source": [
        "Manually Inspect results"
      ]
    },
    {
      "cell_type": "code",
      "execution_count": null,
      "metadata": {
        "colab": {
          "base_uri": "https://localhost:8080/"
        },
        "id": "3pPWn9Bma2eE",
        "outputId": "22ff78e9-8895-46ec-939f-e96bfe55e296"
      },
      "outputs": [],
      "source": [
        "np.round(input_corr, 2), np.round(output_corr, 2)"
      ]
    },
    {
      "cell_type": "code",
      "execution_count": null,
      "metadata": {
        "id": "tyuwbKala2aN"
      },
      "outputs": [],
      "source": []
    },
    {
      "cell_type": "code",
      "execution_count": null,
      "metadata": {
        "colab": {
          "base_uri": "https://localhost:8080/"
        },
        "id": "AUYkU00wc7id",
        "outputId": "144c9dd2-5178-4329-e421-953eddaf6a5e"
      },
      "outputs": [],
      "source": [
        "_corr[idx, 0, :, :].max(), corr[idx, 0, :, :].max()"
      ]
    },
    {
      "cell_type": "code",
      "execution_count": null,
      "metadata": {
        "colab": {
          "base_uri": "https://localhost:8080/"
        },
        "id": "S0Tzal-n_qHj",
        "outputId": "629b6c86-83bd-4b65-84e6-ec3890d3b82f"
      },
      "outputs": [],
      "source": [
        "torch.where(_corr[idx, 0, :, :] == _corr[idx, 0, :, :].max()), torch.where(corr[idx, 0, :, :] == corr[idx, 0, :, :].max())"
      ]
    },
    {
      "cell_type": "code",
      "execution_count": null,
      "metadata": {
        "colab": {
          "base_uri": "https://localhost:8080/"
        },
        "id": "afH9nWQX_058",
        "outputId": "71398c97-c1de-4a91-ca41-68d031afd36d"
      },
      "outputs": [],
      "source": [
        "_corr.shape, coords_lvl.shape"
      ]
    },
    {
      "cell_type": "code",
      "execution_count": null,
      "metadata": {
        "id": "I0diqucYdU1u"
      },
      "outputs": [],
      "source": [
        "# _corr, coords_lvl\n",
        "\n",
        "H, W = _corr.shape[-2:]\n",
        "xgrid, ygrid = coords_lvl.split([1,1], dim=-1)\n",
        "xgrid = 2*xgrid/(W-1) - 1\n",
        "ygrid = 2*ygrid/(H-1) - 1"
      ]
    },
    {
      "cell_type": "code",
      "execution_count": null,
      "metadata": {
        "colab": {
          "base_uri": "https://localhost:8080/"
        },
        "id": "X1coh3AudUxC",
        "outputId": "06ef50de-60c0-4316-8de4-3f57e8c43686"
      },
      "outputs": [],
      "source": [
        "xgrid.shape, ygrid.shape, coords_lvl.shape"
      ]
    },
    {
      "cell_type": "code",
      "execution_count": null,
      "metadata": {
        "colab": {
          "base_uri": "https://localhost:8080/"
        },
        "id": "3FYBrSGbdUlY",
        "outputId": "28edb072-2b29-44e5-91b8-0e530aa906dd"
      },
      "outputs": [],
      "source": [
        "xgrid[idx, :, :].squeeze()"
      ]
    },
    {
      "cell_type": "code",
      "execution_count": null,
      "metadata": {
        "colab": {
          "base_uri": "https://localhost:8080/"
        },
        "id": "nsUhEn_U-X2K",
        "outputId": "38c909ea-7907-4caf-fbe0-757f1740af9f"
      },
      "outputs": [],
      "source": [
        "ygrid[idx, :, :].squeeze()"
      ]
    },
    {
      "cell_type": "markdown",
      "metadata": {
        "id": "1J3lfn44MlRo"
      },
      "source": [
        "## **Explore the Recurrent Update Block**"
      ]
    },
    {
      "cell_type": "code",
      "execution_count": null,
      "metadata": {
        "id": "RsoqZ4-z-XyZ"
      },
      "outputs": [],
      "source": [
        "hdim = model.module.hidden_dim\n",
        "cdim = model.module.context_dim\n",
        "\n",
        "with torch.autocast(device_type='cuda', enabled=True):\n",
        "    cnet = model.module.cnet(frame1)\n",
        "    net, inp = torch.split(cnet, [hdim, cdim], dim=1)\n",
        "    net = torch.tanh(net)\n",
        "    inp = torch.relu(inp)"
      ]
    },
    {
      "cell_type": "markdown",
      "metadata": {
        "id": "JUK1ojS8b1q8"
      },
      "source": [
        "## Compare Learned Feature maps to the context features"
      ]
    },
    {
      "cell_type": "code",
      "execution_count": null,
      "metadata": {
        "colab": {
          "base_uri": "https://localhost:8080/",
          "height": 810
        },
        "id": "Srgj6ccbb5HN",
        "outputId": "f8f9bbbe-90ce-43f3-ca17-9b7b95329cc3"
      },
      "outputs": [],
      "source": [
        "_, (ax0, ax1) = plt.subplots(2, 2, figsize=(20,10))\n",
        "ax0[0].imshow(fmap1.squeeze(0)[0, :, :].detach().cpu().numpy())\n",
        "ax0[0].set_title(\"Feature Net Feature Maps\", size=18)\n",
        "\n",
        "ax0[1].imshow(net.squeeze(0)[0, :, :].detach().cpu().numpy())\n",
        "ax0[1].set_title(\"Context Net Hidden Feature Maps\", size=18)\n",
        "\n",
        "ax1[0].imshow(fmap1.squeeze(0)[10, :, :].detach().cpu().numpy())\n",
        "\n",
        "ax1[1].imshow(net.squeeze(0)[10, :, :].detach().cpu().numpy());"
      ]
    },
    {
      "cell_type": "code",
      "execution_count": null,
      "metadata": {
        "colab": {
          "base_uri": "https://localhost:8080/",
          "height": 810
        },
        "id": "eOUtmxDWipdv",
        "outputId": "41a884dc-0c6b-4938-f6f4-23cb15f5c771"
      },
      "outputs": [],
      "source": [
        "_, (ax0, ax1) = plt.subplots(2, 2, figsize=(20,10))\n",
        "ax0[0].imshow(inp.squeeze(0)[20, :, :].detach().cpu().numpy())\n",
        "ax0[0].set_title(\"Context Net Context Feature Maps\", size=18)\n",
        "\n",
        "ax0[1].imshow(net.squeeze(0)[20, :, :].detach().cpu().numpy())\n",
        "ax0[1].set_title(\"Context Net Hidden Feature Maps\", size=18)\n",
        "\n",
        "ax1[0].imshow(inp.squeeze(0)[120, :, :].detach().cpu().numpy())\n",
        "\n",
        "ax1[1].imshow(net.squeeze(0)[120, :, :].detach().cpu().numpy());"
      ]
    },
    {
      "cell_type": "code",
      "execution_count": null,
      "metadata": {
        "colab": {
          "base_uri": "https://localhost:8080/"
        },
        "id": "3yWPJsO5ohSR",
        "outputId": "5882ec0a-f23a-45a3-ae1f-1a4d27810cce"
      },
      "outputs": [],
      "source": [
        "inp.max(), net.max()"
      ]
    },
    {
      "cell_type": "markdown",
      "metadata": {
        "id": "43YjdihmkIRm"
      },
      "source": [
        "Since the network uses the hidden maps as the optical flow output, it makes sense for the context network to decode hidden feature maps that emphasize different aspects of the input image."
      ]
    },
    {
      "cell_type": "markdown",
      "metadata": {
        "id": "sMbZFx7Ocyte"
      },
      "source": [
        "We can see that the feature extraction network learns something super abstract, while"
      ]
    },
    {
      "cell_type": "code",
      "execution_count": null,
      "metadata": {
        "id": "-ENH_iEX-XuA"
      },
      "outputs": [],
      "source": [
        "# initialize flow\n",
        "coords0, coords1 = model.module.initialize_flow(frame1)"
      ]
    },
    {
      "cell_type": "code",
      "execution_count": null,
      "metadata": {
        "id": "mgtmRggpdUfo"
      },
      "outputs": [],
      "source": [
        "coords1 = coords1.detach()\n",
        "corr = corr_fn(coords1) # index correlation volume\n",
        "\n",
        "flow = coords1 - coords0\n",
        "with torch.autocast(device_type='cuda', enabled=True):\n",
        "    net, up_mask, delta_flow = model.module.update_block(net, inp, corr, flow)\n",
        "\n"
      ]
    },
    {
      "cell_type": "code",
      "execution_count": null,
      "metadata": {
        "colab": {
          "base_uri": "https://localhost:8080/"
        },
        "id": "wJH1j6eMbLy0",
        "outputId": "4db8d3d6-3e4b-4d58-f8c1-e8cac1e91e24"
      },
      "outputs": [],
      "source": [
        "net.shape, delta_flow.shape"
      ]
    },
    {
      "cell_type": "code",
      "execution_count": null,
      "metadata": {
        "colab": {
          "base_uri": "https://localhost:8080/",
          "height": 278
        },
        "id": "Zclc8OvqbVzT",
        "outputId": "5558f505-26da-4998-d192-6190fd9fa61c"
      },
      "outputs": [],
      "source": [
        "_, (ax0, ax1, ax2) = plt.subplots(1, 3, figsize=(20,10))\n",
        "ax0.imshow(net.squeeze(0)[0, :, :].detach().cpu().numpy())\n",
        "ax1.imshow(delta_flow.squeeze(0)[0, :, :].detach().cpu().numpy())\n",
        "ax2.imshow(delta_flow.squeeze(0)[1, :, :].detach().cpu().numpy())"
      ]
    },
    {
      "cell_type": "code",
      "execution_count": null,
      "metadata": {
        "id": "FZUHVaV9_GBw"
      },
      "outputs": [],
      "source": [
        "# F(t+1) = F(t) + \\Delta(t)\n",
        "coords1 = coords1 + delta_flow"
      ]
    },
    {
      "cell_type": "markdown",
      "metadata": {
        "id": "k619GN2RdNuI"
      },
      "source": [
        "## **Re-Explore the Correlation using the new flow estimate**"
      ]
    },
    {
      "cell_type": "code",
      "execution_count": null,
      "metadata": {
        "id": "77bHNQN0dMl0"
      },
      "outputs": [],
      "source": [
        "r = 4 # radius\n",
        "coords = coords1.detach().permute(0, 2, 3, 1)\n",
        "batch, h1, w1, _ = coords.shape\n",
        "out_pyramid = []"
      ]
    },
    {
      "cell_type": "code",
      "execution_count": null,
      "metadata": {
        "id": "eHZRrGkVdbKd"
      },
      "outputs": [],
      "source": [
        "i = 2\n",
        "_corr = corr_fn.corr_pyramid[i]\n",
        "dx = torch.linspace(-r, r, 2*r+1, device=coords.device)\n",
        "dy = torch.linspace(-r, r, 2*r+1, device=coords.device)\n",
        "delta = torch.stack(torch.meshgrid(dy, dx), axis=-1)"
      ]
    },
    {
      "cell_type": "code",
      "execution_count": null,
      "metadata": {
        "id": "8K5AC4BhdeIm"
      },
      "outputs": [],
      "source": [
        "centroid_lvl = coords.reshape(batch*h1*w1, 1, 1, 2) / 2**i\n",
        "delta_lvl = delta.view(1, 2*r+1, 2*r+1, 2)\n",
        "coords_lvl = centroid_lvl + delta_lvl"
      ]
    },
    {
      "cell_type": "code",
      "execution_count": null,
      "metadata": {
        "colab": {
          "base_uri": "https://localhost:8080/"
        },
        "id": "S_a_Tkr4fPEQ",
        "outputId": "02b783bd-f044-480f-ea95-d93ad09f885c"
      },
      "outputs": [],
      "source": [
        "delta_lvl.squeeze(0)[:, :, 0]"
      ]
    },
    {
      "cell_type": "code",
      "execution_count": null,
      "metadata": {
        "colab": {
          "base_uri": "https://localhost:8080/"
        },
        "id": "aNg_3fm3dhOl",
        "outputId": "9230baa2-1ce3-495c-b4b7-3aacfb31cf93"
      },
      "outputs": [],
      "source": [
        "\n",
        "idx = 1000\n",
        "\n",
        "pixel_loc = centroid_lvl[idx, :, :, :].cpu().numpy().squeeze()\n",
        "pixel_loc"
      ]
    },
    {
      "cell_type": "code",
      "execution_count": null,
      "metadata": {
        "colab": {
          "base_uri": "https://localhost:8080/"
        },
        "id": "kJEQ9R7betIn",
        "outputId": "2336044b-9a8e-49c0-f765-f348bb7c2bb1"
      },
      "outputs": [],
      "source": [
        "coords_lvl[idx, :, :, 0]"
      ]
    },
    {
      "cell_type": "code",
      "execution_count": null,
      "metadata": {
        "colab": {
          "base_uri": "https://localhost:8080/"
        },
        "id": "OA6hhhjMdmk8",
        "outputId": "108ae922-f67f-4552-cda0-ab0b28541b8e"
      },
      "outputs": [],
      "source": [
        "xi0, xi1 = coords_lvl[idx, 0, 0, 0].cpu().numpy(), coords_lvl[idx, -1, 0, 0].cpu().numpy() + 1\n",
        "yi0, yi1 = coords_lvl[idx, 0, 0, 1].cpu().numpy(), coords_lvl[idx, 0, -1, 1].cpu().numpy() + 1\n",
        "\n",
        "xi0, xi1 = int(np.clip(xi0, 0, np.infty)), int(np.clip(xi1, 0, np.infty))\n",
        "yi0, yi1 = int(np.clip(yi0, 0, np.infty)), int(np.clip(yi1, 0, np.infty))\n",
        "\n",
        "# xi0, xi1 = int(xi0), int(xi1)\n",
        "# yi0, yi1 = int(yi0), int(yi1)\n",
        "\n",
        "xi0, xi1, yi0, yi1"
      ]
    },
    {
      "cell_type": "code",
      "execution_count": null,
      "metadata": {
        "id": "fyd73UJhdusb"
      },
      "outputs": [],
      "source": [
        "corr = bilinear_sampler(_corr, coords_lvl)"
      ]
    },
    {
      "cell_type": "code",
      "execution_count": null,
      "metadata": {
        "id": "dG-rievPdyiX"
      },
      "outputs": [],
      "source": [
        "corr_response = _corr[idx, 0, :, :].detach().cpu().numpy()"
      ]
    },
    {
      "cell_type": "code",
      "execution_count": null,
      "metadata": {
        "colab": {
          "base_uri": "https://localhost:8080/",
          "height": 468
        },
        "id": "DKrty1B_d2ft",
        "outputId": "ac45eb41-9bfa-4a17-a111-e1b9e6f3e95f"
      },
      "outputs": [],
      "source": [
        "import matplotlib.patches as patches\n",
        "_, ax = plt.subplots(1, 1, figsize=(15, 5))\n",
        "ax.imshow(corr_response);\n",
        "ax.set_title(f\"Correlation Response at Pyramid level: {i} and pixel: {pixel_loc}\");\n",
        "\n",
        "# mark I2 pixel under test\n",
        "rect = patches.Rectangle(pixel_loc - 0.5, 1, 1, linewidth=2, edgecolor='r', facecolor='none')\n",
        "ax.add_patch(rect)\n",
        "\n",
        "plt.show();"
      ]
    },
    {
      "cell_type": "code",
      "execution_count": null,
      "metadata": {
        "colab": {
          "base_uri": "https://localhost:8080/",
          "height": 853
        },
        "id": "18mUpnLld5UC",
        "outputId": "78b3c089-1df3-4c91-82b8-cfe5b36e7a29"
      },
      "outputs": [],
      "source": [
        "_, (ax0, ax1) = plt.subplots(1,2, figsize=(20,10))\n",
        "\n",
        "# ax0.imshow(_corr[idx, 0, 19:28, 52:61].detach().cpu().numpy().T)\n",
        "# ax0.set_title(f\"Correlation Input at index {idx}\")\n",
        "# ax1.imshow(corr[idx, 0, :, :].detach().cpu().numpy())\n",
        "# ax1.set_title(f\"Correlation Output at index {idx}\");\n",
        "\n",
        "# ensure orientations are consistentidx\n",
        "# input_corr = _corr[idx, 0, yi0:yi1, xi0:xi1].detach().cpu().numpy()\n",
        "# output_corr = corr[idx, 0, :, :].detach().cpu().numpy().T\n",
        "\n",
        "input_corr = _corr[idx, 0, yi0:yi1, xi0:xi1].detach().cpu().numpy().T\n",
        "output_corr = corr[idx, 0, :, :].detach().cpu().numpy()\n",
        "\n",
        "ax0.imshow(input_corr)\n",
        "ax0.set_title(f\"Correlation Input at index {pixel_loc} (zero padding not shown)\")\n",
        "ax1.imshow(output_corr)\n",
        "ax1.set_title(f\"Correlation Output at index {pixel_loc}\");"
      ]
    },
    {
      "cell_type": "code",
      "execution_count": null,
      "metadata": {
        "id": "jmLHz0Akd9Za"
      },
      "outputs": [],
      "source": []
    }
  ],
  "metadata": {
    "accelerator": "GPU",
    "colab": {
      "authorship_tag": "ABX9TyNeExnZ4KbP76ia6Tfk6A8X",
      "gpuType": "T4",
      "include_colab_link": true,
      "provenance": []
    },
    "kernelspec": {
      "display_name": "Python 3",
      "name": "python3"
    },
    "language_info": {
      "name": "python"
    }
  },
  "nbformat": 4,
  "nbformat_minor": 0
}
